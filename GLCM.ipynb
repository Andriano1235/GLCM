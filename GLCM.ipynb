{
 "cells": [
  {
   "cell_type": "code",
   "execution_count": 1,
   "metadata": {},
   "outputs": [],
   "source": [
    "# Library\n",
    "import numpy as np\n",
    "import cv2\n",
    "import os\n",
    "import glob\n",
    "\n",
    "# Otsu Method\n",
    "from numpy import asarray\n",
    "\n",
    "# GLCM\n",
    "from skimage.feature import greycomatrix, greycoprops"
   ]
  },
  {
   "cell_type": "code",
   "execution_count": 2,
   "metadata": {},
   "outputs": [],
   "source": [
    "def compute_otsu_criteria(im, th):\n",
    "    # create the thresholded image\n",
    "    thresholded_im = np.zeros(im.shape)\n",
    "    thresholded_im[im >= th] = 1\n",
    "\n",
    "    # compute weights\n",
    "    nb_pixels = im.size\n",
    "    nb_pixels1 = np.count_nonzero(thresholded_im)\n",
    "    weight1 = nb_pixels1 / nb_pixels\n",
    "    weight0 = 1 - weight1\n",
    "\n",
    "    # if one the classes is empty, eg all pixels are below or above the threshold, that threshold will not be considered\n",
    "    # in the search for the best threshold\n",
    "    if weight1 == 0 or weight0 == 0:\n",
    "        return np.inf\n",
    "\n",
    "    # find all pixels belonging to each class\n",
    "    val_pixels1 = im[thresholded_im == 1]\n",
    "    val_pixels0 = im[thresholded_im == 0]\n",
    "\n",
    "    # compute variance of these classes\n",
    "    var0 = np.var(val_pixels0) if len(val_pixels0) > 0 else 0\n",
    "    var1 = np.var(val_pixels1) if len(val_pixels1) > 0 else 0\n",
    "\n",
    "    return weight0 * var0 + weight1 * var1\n",
    "\n",
    "def preprocess(path_src, path_th, path_dl, path_er, path_gray, label):\n",
    "    i = 0\n",
    "    for image in path_src:\n",
    "        img = cv2.imread(image)\n",
    "        im = asarray(img)\n",
    "\n",
    "        # testing all thresholds from 0 to the maximum of the image\n",
    "        threshold_range = range(np.max(im)+1)\n",
    "        criterias = [compute_otsu_criteria(im, th) for th in threshold_range]\n",
    "\n",
    "        # best threshold is the one minimizing the Otsu criteria\n",
    "        best_threshold = threshold_range[np.argmin(criterias)]\n",
    "        print(best_threshold)\n",
    "\n",
    "        grayscale = cv2.cvtColor(img, cv2.COLOR_BGR2GRAY)\n",
    "        ret, img1 = cv2.threshold(grayscale, best_threshold, 255, cv2.THRESH_BINARY_INV)\n",
    "        cv2.imwrite(path_th + \"image%02i.jpg\" %i, img1)\n",
    "        \n",
    "        # Closing Operation\n",
    "        # Dilation\n",
    "        img1 = cv2.dilate(img1.copy(), None, iterations=5)\n",
    "        cv2.imwrite(path_dl + \"image%02i.jpg\" %i, img1)\n",
    "        \n",
    "        # Erosion\n",
    "        img1 = cv2.erode(img1.copy(), None, iterations=5)\n",
    "        cv2.imwrite(path_er + \"image%02i.jpg\" %i, img1)\n",
    "        \n",
    "        \n",
    "        b, g, r = cv2.split(img)\n",
    "        rgba = [b,g,r,img1]\n",
    "        dst = cv2.merge(rgba, 4)\n",
    "        \n",
    "        contours, hierarchy = cv2.findContours(img1, cv2.RETR_TREE, cv2.CHAIN_APPROX_SIMPLE)\n",
    "        select = max(contours, key=cv2.contourArea)\n",
    "        x,y,w,h = cv2.boundingRect(select)\n",
    "        png = dst[y:y+h,x:x+w]\n",
    "        gray = cv2.cvtColor(png, cv2.COLOR_BGR2GRAY)\n",
    "        grays.append(gray)\n",
    "        labels.append(label)\n",
    "        cv2.imwrite(path_gray + \"image%02i.jpg\" %i, gray)    \n",
    "        i+=1\n",
    "        print (\"Berhasil\")\n",
    "    \n",
    "    print(\"Berhasil save\")\n",
    "    return grays"
   ]
  },
  {
   "cell_type": "code",
   "execution_count": 3,
   "metadata": {},
   "outputs": [],
   "source": [
    "grays = [] # Container Image\n",
    "labels = [] # Container Label (Positive or Negative)"
   ]
  },
  {
   "cell_type": "markdown",
   "metadata": {},
   "source": [
    "### Import Image and Save the Result"
   ]
  },
  {
   "cell_type": "markdown",
   "metadata": {},
   "source": [
    "Status PJK Negatif"
   ]
  },
  {
   "cell_type": "code",
   "execution_count": 4,
   "metadata": {},
   "outputs": [
    {
     "name": "stdout",
     "output_type": "stream",
     "text": [
      "110\n",
      "Berhasil\n",
      "152\n",
      "Berhasil\n",
      "143\n",
      "Berhasil\n",
      "Berhasil save\n"
     ]
    },
    {
     "data": {
      "text/plain": [
       "[array([[ 73,  73,  73, ...,  52,  52,  52],\n",
       "        [ 69,  69,  69, ...,  53,  53,  52],\n",
       "        [ 68,  68,  67, ...,  54,  53,  53],\n",
       "        ...,\n",
       "        [153, 163, 168, ...,  94,  94,  97],\n",
       "        [165, 170, 167, ...,  90,  92,  95],\n",
       "        [164, 168, 157, ...,  90,  93,  98]], dtype=uint8),\n",
       " array([[115, 115, 115, ..., 187, 188, 190],\n",
       "        [115, 116, 117, ..., 183, 184, 187],\n",
       "        [112, 113, 115, ..., 183, 184, 186],\n",
       "        ...,\n",
       "        [127, 127, 127, ..., 192, 192, 187],\n",
       "        [128, 127, 126, ..., 191, 190, 187],\n",
       "        [129, 127, 126, ..., 189, 188, 189]], dtype=uint8),\n",
       " array([[119, 117, 114, ..., 142, 140, 143],\n",
       "        [116, 115, 114, ..., 146, 144, 146],\n",
       "        [113, 114, 114, ..., 153, 150, 150],\n",
       "        ...,\n",
       "        [158, 163, 161, ..., 159, 155, 157],\n",
       "        [146, 154, 157, ..., 154, 157, 159],\n",
       "        [141, 145, 153, ..., 156, 159, 161]], dtype=uint8)]"
      ]
     },
     "execution_count": 4,
     "metadata": {},
     "output_type": "execute_result"
    }
   ],
   "source": [
    "path_src = glob.glob(\"Image/Negatif/*.jpg\")\n",
    "path_th = \"Image/Thresholding/Negatif/\"\n",
    "path_dl = \"Image/Dilasi/Negatif/\"\n",
    "path_er =\"Image/Erosi/Negatif/\"\n",
    "path_gray =\"Image/Gray/Negatif/\"\n",
    "label = \"Negatif\"\n",
    "\n",
    "preprocess(path_src, path_th, path_dl, path_er, path_gray, label)"
   ]
  },
  {
   "cell_type": "markdown",
   "metadata": {},
   "source": [
    "Status PJK Positif"
   ]
  },
  {
   "cell_type": "code",
   "execution_count": 5,
   "metadata": {},
   "outputs": [
    {
     "name": "stdout",
     "output_type": "stream",
     "text": [
      "Berhasil save\n"
     ]
    },
    {
     "data": {
      "text/plain": [
       "[array([[ 73,  73,  73, ...,  52,  52,  52],\n",
       "        [ 69,  69,  69, ...,  53,  53,  52],\n",
       "        [ 68,  68,  67, ...,  54,  53,  53],\n",
       "        ...,\n",
       "        [153, 163, 168, ...,  94,  94,  97],\n",
       "        [165, 170, 167, ...,  90,  92,  95],\n",
       "        [164, 168, 157, ...,  90,  93,  98]], dtype=uint8),\n",
       " array([[115, 115, 115, ..., 187, 188, 190],\n",
       "        [115, 116, 117, ..., 183, 184, 187],\n",
       "        [112, 113, 115, ..., 183, 184, 186],\n",
       "        ...,\n",
       "        [127, 127, 127, ..., 192, 192, 187],\n",
       "        [128, 127, 126, ..., 191, 190, 187],\n",
       "        [129, 127, 126, ..., 189, 188, 189]], dtype=uint8),\n",
       " array([[119, 117, 114, ..., 142, 140, 143],\n",
       "        [116, 115, 114, ..., 146, 144, 146],\n",
       "        [113, 114, 114, ..., 153, 150, 150],\n",
       "        ...,\n",
       "        [158, 163, 161, ..., 159, 155, 157],\n",
       "        [146, 154, 157, ..., 154, 157, 159],\n",
       "        [141, 145, 153, ..., 156, 159, 161]], dtype=uint8)]"
      ]
     },
     "execution_count": 5,
     "metadata": {},
     "output_type": "execute_result"
    }
   ],
   "source": [
    "path_src = glob.glob(\"Image/Postif/*.jpg\")\n",
    "path_th = \"Image/Thresholding/Positif/\"\n",
    "path_dl = \"Image/Dilasi/Positif/\"\n",
    "path_er =\"Image/Erosi/Positif/\"\n",
    "path_gray =\"Image/Gray/Positif/\"\n",
    "label = \"Positif\"\n",
    "\n",
    "preprocess(path_src, path_th, path_dl, path_er, path_gray, label)"
   ]
  },
  {
   "cell_type": "code",
   "execution_count": 6,
   "metadata": {},
   "outputs": [
    {
     "name": "stdout",
     "output_type": "stream",
     "text": [
      "3\n"
     ]
    }
   ],
   "source": [
    "print(len(grays))"
   ]
  },
  {
   "cell_type": "code",
   "execution_count": 7,
   "metadata": {},
   "outputs": [],
   "source": [
    "# cv2.imshow(\"gray image\",grays[5])\n",
    "# cv2.waitKey(0) \n",
    "  \n",
    "# #closing all open windows \n",
    "# cv2.destroyAllWindows() "
   ]
  },
  {
   "cell_type": "code",
   "execution_count": 8,
   "metadata": {},
   "outputs": [],
   "source": [
    "def calc_glcm_all_agls(gray, label, props, dists=[5], agls=[0, np.pi/4, np.pi/2, 3*np.pi/4], lvl=256, sym=True, norm=True):\n",
    "    \n",
    "    glcm = greycomatrix(img, \n",
    "                        distances=dists, \n",
    "                        angles=agls, \n",
    "                        levels=lvl,\n",
    "                        symmetric=sym, \n",
    "                        normed=norm)\n",
    "    feature = []\n",
    "    glcm_props = [propery for name in props for propery in greycoprops(glcm, name)[0]]\n",
    "    for item in glcm_props:\n",
    "            feature.append(item)\n",
    "    feature.append(label) \n",
    "    \n",
    "    return feature\n",
    "\n",
    "properties = ['dissimilarity', 'correlation', 'homogeneity', 'contrast', 'ASM', 'energy']\n",
    "columns = []\n",
    "angles = ['0', '45', '90','135']\n",
    "for name in properties :\n",
    "    for ang in angles:\n",
    "        columns.append(name + \"_\" + ang)\n",
    "        \n",
    "columns.append(\"label\")\n",
    "\n",
    "\n",
    "glcm_all_agls = []\n",
    "for img, label in zip(grays, labels): \n",
    "    glcm_all_agls.append(\n",
    "            calc_glcm_all_agls(img, \n",
    "                                label, \n",
    "                                props=properties)\n",
    "                            )\n",
    "    \n"
   ]
  },
  {
   "cell_type": "code",
   "execution_count": 9,
   "metadata": {},
   "outputs": [
    {
     "data": {
      "text/html": [
       "<div>\n",
       "<style scoped>\n",
       "    .dataframe tbody tr th:only-of-type {\n",
       "        vertical-align: middle;\n",
       "    }\n",
       "\n",
       "    .dataframe tbody tr th {\n",
       "        vertical-align: top;\n",
       "    }\n",
       "\n",
       "    .dataframe thead th {\n",
       "        text-align: right;\n",
       "    }\n",
       "</style>\n",
       "<table border=\"1\" class=\"dataframe\">\n",
       "  <thead>\n",
       "    <tr style=\"text-align: right;\">\n",
       "      <th></th>\n",
       "      <th>dissimilarity_0</th>\n",
       "      <th>dissimilarity_45</th>\n",
       "      <th>dissimilarity_90</th>\n",
       "      <th>dissimilarity_135</th>\n",
       "      <th>correlation_0</th>\n",
       "      <th>correlation_45</th>\n",
       "      <th>correlation_90</th>\n",
       "      <th>correlation_135</th>\n",
       "      <th>homogeneity_0</th>\n",
       "      <th>homogeneity_45</th>\n",
       "      <th>...</th>\n",
       "      <th>contrast_135</th>\n",
       "      <th>ASM_0</th>\n",
       "      <th>ASM_45</th>\n",
       "      <th>ASM_90</th>\n",
       "      <th>ASM_135</th>\n",
       "      <th>energy_0</th>\n",
       "      <th>energy_45</th>\n",
       "      <th>energy_90</th>\n",
       "      <th>energy_135</th>\n",
       "      <th>label</th>\n",
       "    </tr>\n",
       "  </thead>\n",
       "  <tbody>\n",
       "    <tr>\n",
       "      <th>0</th>\n",
       "      <td>7.034388</td>\n",
       "      <td>7.640496</td>\n",
       "      <td>7.663753</td>\n",
       "      <td>7.445453</td>\n",
       "      <td>0.923183</td>\n",
       "      <td>0.909970</td>\n",
       "      <td>0.909637</td>\n",
       "      <td>0.915908</td>\n",
       "      <td>0.178868</td>\n",
       "      <td>0.171162</td>\n",
       "      <td>...</td>\n",
       "      <td>121.783663</td>\n",
       "      <td>0.000452</td>\n",
       "      <td>0.000427</td>\n",
       "      <td>0.000428</td>\n",
       "      <td>0.000422</td>\n",
       "      <td>0.021252</td>\n",
       "      <td>0.020661</td>\n",
       "      <td>0.020698</td>\n",
       "      <td>0.020554</td>\n",
       "      <td>Negatif</td>\n",
       "    </tr>\n",
       "    <tr>\n",
       "      <th>1</th>\n",
       "      <td>5.020745</td>\n",
       "      <td>5.339807</td>\n",
       "      <td>5.145619</td>\n",
       "      <td>5.236546</td>\n",
       "      <td>0.930061</td>\n",
       "      <td>0.925388</td>\n",
       "      <td>0.929417</td>\n",
       "      <td>0.923329</td>\n",
       "      <td>0.220281</td>\n",
       "      <td>0.204911</td>\n",
       "      <td>...</td>\n",
       "      <td>61.679466</td>\n",
       "      <td>0.000836</td>\n",
       "      <td>0.000779</td>\n",
       "      <td>0.000808</td>\n",
       "      <td>0.000807</td>\n",
       "      <td>0.028916</td>\n",
       "      <td>0.027908</td>\n",
       "      <td>0.028425</td>\n",
       "      <td>0.028406</td>\n",
       "      <td>Negatif</td>\n",
       "    </tr>\n",
       "    <tr>\n",
       "      <th>2</th>\n",
       "      <td>6.268082</td>\n",
       "      <td>6.986674</td>\n",
       "      <td>6.975382</td>\n",
       "      <td>7.089005</td>\n",
       "      <td>0.945891</td>\n",
       "      <td>0.935333</td>\n",
       "      <td>0.936414</td>\n",
       "      <td>0.933253</td>\n",
       "      <td>0.173524</td>\n",
       "      <td>0.158174</td>\n",
       "      <td>...</td>\n",
       "      <td>95.162514</td>\n",
       "      <td>0.000555</td>\n",
       "      <td>0.000501</td>\n",
       "      <td>0.000505</td>\n",
       "      <td>0.000500</td>\n",
       "      <td>0.023551</td>\n",
       "      <td>0.022394</td>\n",
       "      <td>0.022481</td>\n",
       "      <td>0.022369</td>\n",
       "      <td>Negatif</td>\n",
       "    </tr>\n",
       "  </tbody>\n",
       "</table>\n",
       "<p>3 rows × 25 columns</p>\n",
       "</div>"
      ],
      "text/plain": [
       "   dissimilarity_0  dissimilarity_45  dissimilarity_90  dissimilarity_135  \\\n",
       "0         7.034388          7.640496          7.663753           7.445453   \n",
       "1         5.020745          5.339807          5.145619           5.236546   \n",
       "2         6.268082          6.986674          6.975382           7.089005   \n",
       "\n",
       "   correlation_0  correlation_45  correlation_90  correlation_135  \\\n",
       "0       0.923183        0.909970        0.909637         0.915908   \n",
       "1       0.930061        0.925388        0.929417         0.923329   \n",
       "2       0.945891        0.935333        0.936414         0.933253   \n",
       "\n",
       "   homogeneity_0  homogeneity_45  ...  contrast_135     ASM_0    ASM_45  \\\n",
       "0       0.178868        0.171162  ...    121.783663  0.000452  0.000427   \n",
       "1       0.220281        0.204911  ...     61.679466  0.000836  0.000779   \n",
       "2       0.173524        0.158174  ...     95.162514  0.000555  0.000501   \n",
       "\n",
       "     ASM_90   ASM_135  energy_0  energy_45  energy_90  energy_135    label  \n",
       "0  0.000428  0.000422  0.021252   0.020661   0.020698    0.020554  Negatif  \n",
       "1  0.000808  0.000807  0.028916   0.027908   0.028425    0.028406  Negatif  \n",
       "2  0.000505  0.000500  0.023551   0.022394   0.022481    0.022369  Negatif  \n",
       "\n",
       "[3 rows x 25 columns]"
      ]
     },
     "execution_count": 9,
     "metadata": {},
     "output_type": "execute_result"
    }
   ],
   "source": [
    "import pandas as pd \n",
    "\n",
    "# Create the pandas DataFrame for GLCM features data\n",
    "glcm_df = pd.DataFrame(glcm_all_agls,\n",
    "                      columns = columns)\n",
    "\n",
    "glcm_df.to_csv(\"dataset_feature.csv\", sep=';', encoding='utf-8', index=False)\n",
    "glcm_df"
   ]
  },
  {
   "cell_type": "code",
   "execution_count": 12,
   "metadata": {
    "scrolled": true
   },
   "outputs": [
    {
     "ename": "SyntaxError",
     "evalue": "invalid syntax (<ipython-input-12-80ba375e8324>, line 1)",
     "output_type": "error",
     "traceback": [
      "\u001b[1;36m  File \u001b[1;32m\"<ipython-input-12-80ba375e8324>\"\u001b[1;36m, line \u001b[1;32m1\u001b[0m\n\u001b[1;33m    git remote add origin https://github.com/Andriano1235/GLCM.git\u001b[0m\n\u001b[1;37m        ^\u001b[0m\n\u001b[1;31mSyntaxError\u001b[0m\u001b[1;31m:\u001b[0m invalid syntax\n"
     ]
    }
   ],
   "source": []
  },
  {
   "cell_type": "code",
   "execution_count": null,
   "metadata": {},
   "outputs": [],
   "source": []
  }
 ],
 "metadata": {
  "kernelspec": {
   "display_name": "Python 3",
   "language": "python",
   "name": "python3"
  },
  "language_info": {
   "codemirror_mode": {
    "name": "ipython",
    "version": 3
   },
   "file_extension": ".py",
   "mimetype": "text/x-python",
   "name": "python",
   "nbconvert_exporter": "python",
   "pygments_lexer": "ipython3",
   "version": "3.8.5"
  }
 },
 "nbformat": 4,
 "nbformat_minor": 4
}
